{
 "cells": [
  {
   "cell_type": "code",
   "execution_count": 1,
   "metadata": {},
   "outputs": [],
   "source": [
    "import numpy as np\n",
    "import pandas as pd\n",
    "from scipy.integrate import quad\n",
    "from scipy import interpolate\n",
    "from scipy.stats import norm"
   ]
  },
  {
   "cell_type": "markdown",
   "metadata": {},
   "source": [
    "## Constants & Libraries\n"
   ]
  },
  {
   "cell_type": "code",
   "execution_count": 2,
   "metadata": {},
   "outputs": [],
   "source": [
    "def compute_forward_swap_rate(\n",
    "    expiry: float,\n",
    "    tenor: float,\n",
    "    df_discount_factors: pd.DataFrame,\n",
    "    floating_leg_period: float = 1,\n",
    "    fixed_leg_period: float = 1,\n",
    ") -> float:\n",
    "    swap_end_time = expiry + tenor\n",
    "    floating_leg_term = np.arange(\n",
    "        expiry + floating_leg_period,\n",
    "        swap_end_time + floating_leg_period,\n",
    "        floating_leg_period,\n",
    "    )\n",
    "    fixed_leg_terms = np.arange(\n",
    "        expiry + fixed_leg_period,\n",
    "        swap_end_time + fixed_leg_period,\n",
    "        fixed_leg_period,\n",
    "    )\n",
    "    floating_leg_pv = np.sum(\n",
    "        floating_leg_period\n",
    "        * df_discount_factors.loc[floating_leg_term, \"Forward LIBOR\"]\n",
    "        * df_discount_factors.loc[floating_leg_term, \"Discount Factor OIS\"]\n",
    "    )\n",
    "    fixed_leg_pv = np.sum(\n",
    "        fixed_leg_period\n",
    "        * df_discount_factors.loc[fixed_leg_terms, \"Discount Factor OIS\"]\n",
    "    )\n",
    "    return floating_leg_pv / fixed_leg_pv"
   ]
  },
  {
   "cell_type": "code",
   "execution_count": 3,
   "metadata": {},
   "outputs": [],
   "source": [
    "class AbstractBlack76Model:\n",
    "    \"\"\"\n",
    "    A base class used to model Black-Scholes option model\n",
    "    ...\n",
    "    Parameters\n",
    "    ----------\n",
    "    F : float\n",
    "        The forward price of the underlying asset\n",
    "    K : float\n",
    "        The strike price of the options\n",
    "    discount_factor : float\n",
    "        The \"numeraire\" discount factor of the model (i.e. PVBP, compounded discount factor)\n",
    "    sigma : float\n",
    "        Volatility\n",
    "    T : float\n",
    "        Maturity period (years)\n",
    "    \"\"\"\n",
    "\n",
    "    def __init__(\n",
    "        self,\n",
    "        F: float,\n",
    "        K: float,\n",
    "        discount_factor: float,\n",
    "        sigma: float,\n",
    "        T: float,\n",
    "    ):\n",
    "        self.F = F\n",
    "        self.K = K\n",
    "        self.sigma = sigma\n",
    "        self.T = T\n",
    "\n",
    "        self.d1 = self._calculate_d1()\n",
    "        self.d2 = self._calculate_d2()\n",
    "        self.discount_factor = discount_factor\n",
    "\n",
    "    def _calculate_d1(self) -> float:\n",
    "        return (np.log(self.F / self.K) + self.sigma**2 / 2 * self.T) / (\n",
    "            self.sigma * np.sqrt(self.T)\n",
    "        )\n",
    "\n",
    "    def _calculate_d2(self) -> float:\n",
    "        return self.d1 - self.sigma * np.sqrt(self.T)\n",
    "\n",
    "\n",
    "class VanillaBlack76Model(AbstractBlack76Model):\n",
    "    def calculate_call_price(self) -> float:\n",
    "        return self.discount_factor * (\n",
    "            self.F * norm.cdf(self.d1) - self.K * norm.cdf(self.d2)\n",
    "        )\n",
    "\n",
    "    def calculate_put_price(self) -> float:\n",
    "        return self.discount_factor * (\n",
    "            -self.F * norm.cdf(-self.d1) + self.K * norm.cdf(-self.d2)\n",
    "        )\n",
    "\n",
    "\n",
    "class VanillaOption:\n",
    "    def black_model(\n",
    "        self, F: float, K: float, discount_factor: float, sigma: float, T: float\n",
    "    ) -> VanillaBlack76Model:\n",
    "        return VanillaBlack76Model(F, K, discount_factor, sigma, T)\n",
    "\n",
    "\n",
    "def SABR_model(F, K, T, alpha, beta, rho, nu):\n",
    "    X = K\n",
    "    # if K is at-the-money-forward\n",
    "    if abs(F - K) < 1e-12:\n",
    "        numer1 = (((1 - beta) ** 2) / 24) * alpha * alpha / (F ** (2 - 2 * beta))\n",
    "        numer2 = 0.25 * rho * beta * nu * alpha / (F ** (1 - beta))\n",
    "        numer3 = ((2 - 3 * rho * rho) / 24) * nu * nu\n",
    "        VolAtm = alpha * (1 + (numer1 + numer2 + numer3) * T) / (F ** (1 - beta))\n",
    "        sabrsigma = VolAtm\n",
    "    else:\n",
    "        z = (nu / alpha) * ((F * X) ** (0.5 * (1 - beta))) * np.log(F / X)\n",
    "        zhi = np.log((((1 - 2 * rho * z + z * z) ** 0.5) + z - rho) / (1 - rho))\n",
    "        numer1 = (((1 - beta) ** 2) / 24) * ((alpha * alpha) / ((F * X) ** (1 - beta)))\n",
    "        numer2 = 0.25 * rho * beta * nu * alpha / ((F * X) ** ((1 - beta) / 2))\n",
    "        numer3 = ((2 - 3 * rho * rho) / 24) * nu * nu\n",
    "        numer = alpha * (1 + (numer1 + numer2 + numer3) * T) * z\n",
    "        denom1 = ((1 - beta) ** 2 / 24) * (np.log(F / X)) ** 2\n",
    "        denom2 = (((1 - beta) ** 4) / 1920) * ((np.log(F / X)) ** 4)\n",
    "        denom = ((F * X) ** ((1 - beta) / 2)) * (1 + denom1 + denom2) * zhi\n",
    "        sabrsigma = numer / denom\n",
    "    return sabrsigma"
   ]
  },
  {
   "cell_type": "code",
   "execution_count": 4,
   "metadata": {},
   "outputs": [],
   "source": [
    "def IRR_0(K: float, m: float, N: float) -> float:\n",
    "    return 1 / K * (1 - 1 / (1 + K / m) ** (m * N))\n",
    "\n",
    "\n",
    "def IRR_1(K: float, m: float, N: float) -> float:\n",
    "    return -1 / K * IRR_0(K, m, N) + 1 / (K * m) * N * m / (1 + K / m) ** (N * m + 1)\n",
    "\n",
    "\n",
    "def IRR_2(K: float, m: float, N: float) -> float:\n",
    "    return -2 / K * IRR_1(K, m, N) - 1 / (K * m * m) * (N * m) * (N * m + 1) / (\n",
    "        1 + K / m\n",
    "    ) ** (N * m + 2)"
   ]
  },
  {
   "cell_type": "code",
   "execution_count": 5,
   "metadata": {},
   "outputs": [],
   "source": [
    "vanilla_option = VanillaOption()\n",
    "\n",
    "\n",
    "def irr_settled_option_price(\n",
    "    discount_factor: float,\n",
    "    F: float,\n",
    "    K: float,\n",
    "    sigma: float,\n",
    "    T: float,\n",
    "    m: float,\n",
    "    N: float,\n",
    "    swaption_type: str,\n",
    ") -> float:\n",
    "    irr_0 = IRR_0(F, m, N)\n",
    "    discount_factor_numeraire = 1  # 1 / irr_0\n",
    "    black_model = vanilla_option.black_model(F, K, discount_factor_numeraire, sigma, T)\n",
    "    if swaption_type == \"receiver\":\n",
    "        price = black_model.calculate_put_price()\n",
    "    else:\n",
    "        price = black_model.calculate_call_price()\n",
    "    return discount_factor * irr_0 * price"
   ]
  },
  {
   "cell_type": "markdown",
   "metadata": {},
   "source": [
    "## Data Import\n"
   ]
  },
  {
   "cell_type": "code",
   "execution_count": 6,
   "metadata": {},
   "outputs": [],
   "source": [
    "df_discount_factors = pd.read_csv(\n",
    "    \"../bootstrap_swap_curve/output/part_1_bootstrapped_discount_factors.csv\",\n",
    "    index_col=0,\n",
    ")"
   ]
  },
  {
   "cell_type": "code",
   "execution_count": 7,
   "metadata": {},
   "outputs": [],
   "source": [
    "df_swap_rates = pd.read_csv(\n",
    "    \"../swaption_calibration/output/part_2_swap_rates.csv\", index_col=0\n",
    ")"
   ]
  },
  {
   "cell_type": "code",
   "execution_count": 8,
   "metadata": {},
   "outputs": [],
   "source": [
    "df_sabr_params = pd.read_csv(\n",
    "    \"../swaption_calibration/output/part_2_sabr_params.csv\", index_col=0\n",
    ")\n",
    "df_sabr_alpha = df_sabr_params.pivot(index=\"expiry\", columns=\"tenor\", values=\"alpha\")\n",
    "df_sabr_beta = df_sabr_params.pivot(index=\"expiry\", columns=\"tenor\", values=\"beta\")\n",
    "df_sabr_rho = df_sabr_params.pivot(index=\"expiry\", columns=\"tenor\", values=\"rho\")\n",
    "df_sabr_nu = df_sabr_params.pivot(index=\"expiry\", columns=\"tenor\", values=\"nu\")"
   ]
  },
  {
   "cell_type": "markdown",
   "metadata": {},
   "source": [
    "## Pre-computation\n"
   ]
  },
  {
   "cell_type": "code",
   "execution_count": 9,
   "metadata": {},
   "outputs": [],
   "source": [
    "sabr_alpha_interp = interpolate.interp2d(\n",
    "    df_sabr_alpha.index, df_sabr_alpha.columns, df_sabr_alpha.values.T, kind=\"linear\"\n",
    ")\n",
    "sabr_beta_interp = interpolate.interp2d(\n",
    "    df_sabr_beta.index, df_sabr_beta.columns, df_sabr_beta.values.T, kind=\"linear\"\n",
    ")\n",
    "sabr_rho_interp = interpolate.interp2d(\n",
    "    df_sabr_rho.index, df_sabr_rho.columns, df_sabr_rho.values.T, kind=\"linear\"\n",
    ")\n",
    "sabr_nu_interp = interpolate.interp2d(\n",
    "    df_sabr_nu.index, df_sabr_nu.columns, df_sabr_nu.values.T, kind=\"linear\"\n",
    ")"
   ]
  },
  {
   "cell_type": "markdown",
   "metadata": {},
   "source": [
    "## 1. PV of Decompounded Option Payoff\n",
    "\n",
    "$CMS\\ 10y^{1/p} - 0.04^{1/q}$ at time T = 5y, where p = 4 and q = 2\n"
   ]
  },
  {
   "cell_type": "code",
   "execution_count": 10,
   "metadata": {},
   "outputs": [],
   "source": [
    "def g_0(K: float) -> float:\n",
    "    p = 4\n",
    "    q = 2\n",
    "    return K ** (1 / p) - 0.04 ** (1 / q)\n",
    "\n",
    "\n",
    "def g_1(K: float) -> float:\n",
    "    p = 4\n",
    "    q = 2\n",
    "    return (1 / p) * K ** (1 / p - 1)\n",
    "\n",
    "\n",
    "def g_2(K: float) -> float:\n",
    "    p = 4\n",
    "    q = 2\n",
    "    return (1 / p) * (1 / p - 1) * K ** (1 / p - 2)\n",
    "\n",
    "\n",
    "def h_0(K: float, m: float, N: float):\n",
    "    return g_0(K) / IRR_0(K, m, N)\n",
    "\n",
    "\n",
    "def h_1(K: float, m: float, N: float) -> float:\n",
    "    return (IRR_0(K, m, N) * g_1(K) - g_0(K) * IRR_1(K, m, N)) / IRR_0(K, m, N) ** 2\n",
    "\n",
    "\n",
    "def h_2(K: float, m: float, N: float) -> float:\n",
    "    return (\n",
    "        IRR_0(K, m, N) * g_2(K)\n",
    "        - IRR_2(K, m, N) * g_0(K)\n",
    "        - 2.0 * IRR_1(K, m, N) * g_1(K)\n",
    "    ) / IRR_0(K, m, N) ** 2 + 2.0 * IRR_1(K, m, N) ** 2 * g_0(K) / IRR_0(K, m, N) ** 3"
   ]
  },
  {
   "cell_type": "code",
   "execution_count": 11,
   "metadata": {},
   "outputs": [],
   "source": [
    "def compute_options_payoff_1(\n",
    "    expiry: float,\n",
    "    tenor: float,\n",
    "    payment_period: float,\n",
    "    discount_factor: float,\n",
    "    df_discount_factors: pd.DataFrame,\n",
    ") -> float:\n",
    "    F = compute_forward_swap_rate(\n",
    "        expiry, tenor, df_discount_factors, payment_period, payment_period\n",
    "    )\n",
    "    alpha = sabr_alpha_interp(expiry, tenor)[0]\n",
    "    beta = sabr_beta_interp(expiry, tenor)[0]\n",
    "    rho = sabr_rho_interp(expiry, tenor)[0]\n",
    "    nu = sabr_nu_interp(expiry, tenor)[0]\n",
    "\n",
    "    first_term = discount_factor * g_0(F)\n",
    "    second_term = 0\n",
    "    third_term = quad(\n",
    "        lambda x: h_2(x, 1 / payment_period, tenor)\n",
    "        * irr_settled_option_price(\n",
    "            discount_factor,\n",
    "            F,\n",
    "            x,\n",
    "            SABR_model(F, x, expiry, alpha, beta, rho, nu),\n",
    "            expiry,\n",
    "            1 / payment_period,\n",
    "            tenor,\n",
    "            \"receiver\",\n",
    "        ),\n",
    "        1e-6,\n",
    "        F,\n",
    "    )[0]\n",
    "\n",
    "    fourth_term = quad(\n",
    "        lambda x: h_2(x, 1 / payment_period, tenor)\n",
    "        * irr_settled_option_price(\n",
    "            discount_factor,\n",
    "            F,\n",
    "            x,\n",
    "            SABR_model(F, x, expiry, alpha, beta, rho, nu),\n",
    "            expiry,\n",
    "            1 / payment_period,\n",
    "            tenor,\n",
    "            \"payer\",\n",
    "        ),\n",
    "        F,\n",
    "        float(\"inf\"),\n",
    "    )[0]\n",
    "    return first_term + second_term + third_term + fourth_term"
   ]
  },
  {
   "cell_type": "code",
   "execution_count": 12,
   "metadata": {},
   "outputs": [
    {
     "data": {
      "text/plain": [
       "0.23559283462506492"
      ]
     },
     "execution_count": 12,
     "metadata": {},
     "output_type": "execute_result"
    }
   ],
   "source": [
    "T = 5\n",
    "swap_rate_period = 10\n",
    "payment_period = 0.5\n",
    "discount_factor = df_discount_factors.loc[T, \"Discount Factor OIS\"]\n",
    "\n",
    "compute_options_payoff_1(\n",
    "    T, swap_rate_period, payment_period, discount_factor, df_discount_factors\n",
    ")"
   ]
  },
  {
   "cell_type": "markdown",
   "metadata": {},
   "source": [
    "## 2. PV of payoff\n",
    "\n",
    "$(CMS\\ 10y^{1/p} - 0.04^{1/q})^+$ at time T = 5y, where p = 4 and q = 2\n"
   ]
  },
  {
   "cell_type": "code",
   "execution_count": 13,
   "metadata": {},
   "outputs": [],
   "source": [
    "def compute_options_payoff_2(\n",
    "    L: float,\n",
    "    expiry: float,\n",
    "    tenor: float,\n",
    "    payment_period: float,\n",
    "    discount_factor: float,\n",
    "    df_discount_factors: pd.DataFrame,\n",
    ") -> float:\n",
    "    F = compute_forward_swap_rate(\n",
    "        expiry, tenor, df_discount_factors, payment_period, payment_period\n",
    "    )\n",
    "    alpha = sabr_alpha_interp(expiry, tenor)[0]\n",
    "    beta = sabr_beta_interp(expiry, tenor)[0]\n",
    "    rho = sabr_rho_interp(expiry, tenor)[0]\n",
    "    nu = sabr_nu_interp(expiry, tenor)[0]\n",
    "\n",
    "    first_term = irr_settled_option_price(\n",
    "        discount_factor,\n",
    "        F,\n",
    "        L,\n",
    "        SABR_model(F, L, expiry, alpha, beta, rho, nu),\n",
    "        expiry,\n",
    "        1 / payment_period,\n",
    "        tenor,\n",
    "        \"payer\",\n",
    "    ) * h_1(L, 1 / payment_period, tenor)\n",
    "\n",
    "    second_term = quad(\n",
    "        lambda x: h_2(x, 1 / payment_period, tenor)\n",
    "        * irr_settled_option_price(\n",
    "            discount_factor,\n",
    "            F,\n",
    "            x,\n",
    "            SABR_model(F, x, expiry, alpha, beta, rho, nu),\n",
    "            expiry,\n",
    "            1 / payment_period,\n",
    "            tenor,\n",
    "            \"payer\",\n",
    "        ),\n",
    "        F,\n",
    "        float(\"inf\"),\n",
    "    )[0]\n",
    "    return first_term + second_term"
   ]
  },
  {
   "cell_type": "code",
   "execution_count": 14,
   "metadata": {},
   "outputs": [
    {
     "data": {
      "text/plain": [
       "1.0509369659896817"
      ]
     },
     "execution_count": 14,
     "metadata": {},
     "output_type": "execute_result"
    }
   ],
   "source": [
    "T = 5\n",
    "swap_rate_period = 10\n",
    "payment_period = 0.5\n",
    "discount_factor = df_discount_factors.loc[T, \"Discount Factor OIS\"]\n",
    "L = 0.2**4\n",
    "\n",
    "compute_options_payoff_2(\n",
    "    L, T, swap_rate_period, payment_period, discount_factor, df_discount_factors\n",
    ")"
   ]
  }
 ],
 "metadata": {
  "kernelspec": {
   "display_name": "base",
   "language": "python",
   "name": "python3"
  },
  "language_info": {
   "codemirror_mode": {
    "name": "ipython",
    "version": 3
   },
   "file_extension": ".py",
   "mimetype": "text/x-python",
   "name": "python",
   "nbconvert_exporter": "python",
   "pygments_lexer": "ipython3",
   "version": "3.9.13"
  }
 },
 "nbformat": 4,
 "nbformat_minor": 2
}
